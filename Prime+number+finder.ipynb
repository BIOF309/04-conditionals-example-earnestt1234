{
 "cells": [
  {
   "cell_type": "code",
   "execution_count": 24,
   "metadata": {},
   "outputs": [
    {
     "name": "stdout",
     "output_type": "stream",
     "text": [
      "Enter a integer between 1 and 10,000,000 and I will tell you if it is prime.\n",
      "89\n",
      "\n",
      "Calculating...\n",
      "\n",
      "89 is prime!\n"
     ]
    }
   ],
   "source": [
    "print('Enter a integer between 1 and 10,000,000 and I will tell you if it is prime.') \n",
    "\n",
    "#Invitation to user.  This program should wwork for all positive integers; the limit is based on computational power.\n",
    "\n",
    "x=float(input()) \n",
    "\n",
    "#User input, converts input to float.  If input is a string of letters (i.e. 'ten'), this will cause\n",
    "#a Python error.  I couldn't figure a way to cease the program if a word was entered - the input func. \n",
    "#interprets all entries as strings, regardless of if they are numbers or words.\n",
    "\n",
    "if x > 10000000 or x < 1: \n",
    "    print(\"\\nYour number is out of range; enter a number between 1 and 10,000,000.\")\n",
    "    \n",
    "#This checkpoint verifies that the number is in range.\n",
    "    \n",
    "elif x/(round(x,0)) !=1:\n",
    "    print(\"\\nYour number is not an integer.\")\n",
    "    \n",
    "#This checkpoint deals with entries that are not integers (if the entry rounds to an integer (that isn't itself), it is not an\n",
    "#integer), and prints an error.  Note that this bit cannot handle numbers between 0 and 0.5, as there will be a division\n",
    "#by 0 error.  This made me decide to keep the lower limit of the program at 1, rather than 0.  I would like to fix this, \n",
    "#as it would be helpful to include the case of 0.\n",
    "\n",
    "else:\n",
    "    \n",
    "#The meat of the program; actually checking prime status.  Everything is nested in this \"else\", so that the prime status is only\n",
    "#checked when the above conditions are met.\n",
    "\n",
    "    print(\"\\nCalculating...\")\n",
    "    \n",
    "    #helpful to have this for some of the larger entries.\n",
    "    \n",
    "    if x == 1:\n",
    "        print(\"\\n1 is not prime.\")\n",
    "        \n",
    "    #Special case that doesn't work well with the while loop below.\n",
    "    \n",
    "    elif x == 2:\n",
    "        print(\"\\n2 is prime!\")\n",
    "    \n",
    "    #Another special case.\n",
    "        \n",
    "    else:\n",
    "        c=2\n",
    "        \n",
    "        #starts a counter c, which will be the tool used to check divisors of the entry\n",
    "        \n",
    "        while c<= (x/2):\n",
    "            \n",
    "        #We only need to check divisors up to half the size of the entry; any number larger than x/2 \n",
    "        #will not divide x with no remainder\n",
    "        \n",
    "            if x % c == 0:\n",
    "                print(\"\\n\" + str(int(x)) + \" is not prime.\")\n",
    "                break\n",
    "                \n",
    "            #Takes advantage of python's built in modulus operation.  If there is a remainderr of 0, the program ends\n",
    "            #and reports that the entry isn't prime.\n",
    "                \n",
    "            elif x % c != 0:\n",
    "                c = c + 1\n",
    "                \n",
    "            #If the divisor c left a remainder, then it increases the value of c and repeats (until c has reached x/2)\n",
    "                \n",
    "        if c > (x/2):\n",
    "                print(\"\\n\" + str(int(x)) + \" is prime!\" )\n",
    "                \n",
    "            #This code only runs when c has reached a value great than x/2; the while loop has ceased and this code reports\n",
    "            #that the number is prime (since all possible divisors up to x/2 have been tried)."
   ]
  },
  {
   "cell_type": "code",
   "execution_count": null,
   "metadata": {
    "collapsed": true
   },
   "outputs": [],
   "source": []
  }
 ],
 "metadata": {
  "kernelspec": {
   "display_name": "Python 3",
   "language": "python",
   "name": "python3"
  },
  "language_info": {
   "codemirror_mode": {
    "name": "ipython",
    "version": 3
   },
   "file_extension": ".py",
   "mimetype": "text/x-python",
   "name": "python",
   "nbconvert_exporter": "python",
   "pygments_lexer": "ipython3",
   "version": "3.6.1"
  }
 },
 "nbformat": 4,
 "nbformat_minor": 2
}
